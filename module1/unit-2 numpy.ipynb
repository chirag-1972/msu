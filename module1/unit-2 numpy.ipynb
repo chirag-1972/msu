{
 "cells": [
  {
   "cell_type": "markdown",
   "id": "3f054714",
   "metadata": {},
   "source": [
    "# NUMPY-NUMERICAL PYTHON LIBRARY"
   ]
  },
  {
   "cell_type": "code",
   "execution_count": 4,
   "id": "2818bc75",
   "metadata": {},
   "outputs": [],
   "source": [
    "import numpy as np\n",
    "#import numpy library"
   ]
  },
  {
   "cell_type": "code",
   "execution_count": 5,
   "id": "99984228",
   "metadata": {},
   "outputs": [
    {
     "data": {
      "text/plain": [
       "array([[1, 2, 3, 4],\n",
       "       [5, 6, 7, 8]])"
      ]
     },
     "execution_count": 5,
     "metadata": {},
     "output_type": "execute_result"
    }
   ],
   "source": [
    "#array list \n",
    "arr2 = np.array([[1,2,3,4],[5,6,7,8]])\n",
    "arr2#2d"
   ]
  },
  {
   "cell_type": "code",
   "execution_count": 6,
   "id": "1a6bb4e6",
   "metadata": {},
   "outputs": [
    {
     "data": {
      "text/plain": [
       "array([1, 2, 3, 4])"
      ]
     },
     "execution_count": 6,
     "metadata": {},
     "output_type": "execute_result"
    }
   ],
   "source": [
    "arr1 = np.array([1,2,3,4])\n",
    "arr1#1d\n"
   ]
  },
  {
   "cell_type": "code",
   "execution_count": 7,
   "id": "850a704d",
   "metadata": {},
   "outputs": [
    {
     "data": {
      "text/plain": [
       "1"
      ]
     },
     "execution_count": 7,
     "metadata": {},
     "output_type": "execute_result"
    }
   ],
   "source": [
    "arr2 = np.array([[1,2,3,4],[5,6,7,8]])\n",
    "arr2[0][0]"
   ]
  },
  {
   "cell_type": "code",
   "execution_count": 8,
   "id": "27e17510",
   "metadata": {},
   "outputs": [
    {
     "name": "stdout",
     "output_type": "stream",
     "text": [
      "2\n",
      "(2, 4)\n",
      "<memory at 0x000002D70348E860>\n",
      "8\n",
      "<class 'numpy.ndarray'>\n"
     ]
    }
   ],
   "source": [
    "print(arr2.ndim)#dimension\n",
    "print(arr2.shape)#row*column\n",
    "print(arr2.data)#address\n",
    "print(arr2.size)\n",
    "\n",
    "print(type(arr2))"
   ]
  },
  {
   "cell_type": "markdown",
   "id": "be1dd29c",
   "metadata": {},
   "source": [
    "# lab1 RANDOM NO. GENERATOR USING NUMPY"
   ]
  },
  {
   "cell_type": "code",
   "execution_count": 9,
   "id": "ca8a1633",
   "metadata": {},
   "outputs": [
    {
     "data": {
      "text/plain": [
       "array([[707, 779, 915],\n",
       "       [846, 895, 957],\n",
       "       [472, 550, 516]])"
      ]
     },
     "execution_count": 9,
     "metadata": {},
     "output_type": "execute_result"
    }
   ],
   "source": [
    "from numpy import random\n",
    "x = random.randint(1000,size=(3,3))\n",
    "x"
   ]
  },
  {
   "cell_type": "code",
   "execution_count": 10,
   "id": "e27abe38",
   "metadata": {},
   "outputs": [
    {
     "data": {
      "text/plain": [
       "array([0.86586006, 0.99132592, 0.34163899, 0.76189143, 0.10771467,\n",
       "       0.24315942, 0.95655874, 0.68486718, 0.564334  , 0.62791621])"
      ]
     },
     "execution_count": 10,
     "metadata": {},
     "output_type": "execute_result"
    }
   ],
   "source": [
    "y = random.rand(10)\n",
    "y"
   ]
  },
  {
   "cell_type": "code",
   "execution_count": 11,
   "id": "e962aadb",
   "metadata": {},
   "outputs": [
    {
     "data": {
      "text/plain": [
       "array([[0.8792679 , 0.76547422],\n",
       "       [0.32425637, 0.78587628]])"
      ]
     },
     "execution_count": 11,
     "metadata": {},
     "output_type": "execute_result"
    }
   ],
   "source": [
    "z = random.random((2,2))\n",
    "z"
   ]
  },
  {
   "cell_type": "code",
   "execution_count": 12,
   "id": "7a101601",
   "metadata": {},
   "outputs": [
    {
     "data": {
      "text/plain": [
       "array([[2, 3, 0],\n",
       "       [8, 7, 3],\n",
       "       [4, 1, 5]])"
      ]
     },
     "execution_count": 12,
     "metadata": {},
     "output_type": "execute_result"
    }
   ],
   "source": [
    "x = random.randint(10,size=(3,3))\n",
    "random.seed(10)  #any argument is used as an input\n",
    "x            #generates value one time and keep it constant"
   ]
  },
  {
   "cell_type": "markdown",
   "id": "45d4b681",
   "metadata": {},
   "source": [
    "# Numpy functions"
   ]
  },
  {
   "cell_type": "code",
   "execution_count": 13,
   "id": "3ab4b049",
   "metadata": {},
   "outputs": [
    {
     "data": {
      "text/plain": [
       "array([[0., 0., 0.],\n",
       "       [0., 0., 0.],\n",
       "       [0., 0., 0.]])"
      ]
     },
     "execution_count": 13,
     "metadata": {},
     "output_type": "execute_result"
    }
   ],
   "source": [
    "#zeros matrix/arrays\n",
    "zero = np.zeros((3,3))\n",
    "zero"
   ]
  },
  {
   "cell_type": "code",
   "execution_count": 14,
   "id": "da5f6c1c",
   "metadata": {},
   "outputs": [
    {
     "data": {
      "text/plain": [
       "array([[1., 1., 1.],\n",
       "       [1., 1., 1.],\n",
       "       [1., 1., 1.]])"
      ]
     },
     "execution_count": 14,
     "metadata": {},
     "output_type": "execute_result"
    }
   ],
   "source": [
    "#ones matrix/arrays\n",
    "one = np.ones((3,3))\n",
    "one"
   ]
  },
  {
   "cell_type": "code",
   "execution_count": 15,
   "id": "39ebab82",
   "metadata": {},
   "outputs": [
    {
     "data": {
      "text/plain": [
       "array([[1., 0., 0.],\n",
       "       [0., 1., 0.],\n",
       "       [0., 0., 1.]])"
      ]
     },
     "execution_count": 15,
     "metadata": {},
     "output_type": "execute_result"
    }
   ],
   "source": [
    "#identity matrix\n",
    "idt = np.eye(3)\n",
    "idt"
   ]
  },
  {
   "cell_type": "code",
   "execution_count": 16,
   "id": "3f48b9cf",
   "metadata": {},
   "outputs": [
    {
     "data": {
      "text/plain": [
       "array([[5, 5, 5],\n",
       "       [5, 5, 5],\n",
       "       [5, 5, 5]])"
      ]
     },
     "execution_count": 16,
     "metadata": {},
     "output_type": "execute_result"
    }
   ],
   "source": [
    "#create a constant matrix\n",
    "const = np.full((3,3),5)\n",
    "const"
   ]
  },
  {
   "cell_type": "markdown",
   "id": "a0d0c7b0",
   "metadata": {},
   "source": [
    "# ARRAY indexing and slicing"
   ]
  },
  {
   "cell_type": "code",
   "execution_count": 17,
   "id": "b23360fe",
   "metadata": {},
   "outputs": [
    {
     "data": {
      "text/plain": [
       "array([[ 1,  2,  3,  4],\n",
       "       [ 5,  6,  7,  8],\n",
       "       [ 9, 10, 11, 12]])"
      ]
     },
     "execution_count": 17,
     "metadata": {},
     "output_type": "execute_result"
    }
   ],
   "source": [
    "arr4 = np.array([[1,2,3,4],[5,6,7,8],[9,10,11,12]])\n",
    "arr4"
   ]
  },
  {
   "cell_type": "markdown",
   "id": "fa346ee3",
   "metadata": {},
   "source": [
    "#a[0][0] a[0][1] a[0][2]\n",
    "#a[1][0] a[1][1] a[1][2]\n",
    "#a[2][0] a[2][1] a[2][2]\n"
   ]
  },
  {
   "cell_type": "code",
   "execution_count": 18,
   "id": "a29284d6",
   "metadata": {},
   "outputs": [
    {
     "data": {
      "text/plain": [
       "array([[ 1,  6,  3,  4],\n",
       "       [ 5,  6,  7,  8],\n",
       "       [ 9, 10, 11, 12]])"
      ]
     },
     "execution_count": 18,
     "metadata": {},
     "output_type": "execute_result"
    }
   ],
   "source": [
    "arr4[0][1]=6\n",
    "arr4"
   ]
  },
  {
   "cell_type": "code",
   "execution_count": 19,
   "id": "0727e11d",
   "metadata": {},
   "outputs": [
    {
     "data": {
      "text/plain": [
       "array([[ 6,  7],\n",
       "       [10, 11]])"
      ]
     },
     "execution_count": 19,
     "metadata": {},
     "output_type": "execute_result"
    }
   ],
   "source": [
    "#slicing\n",
    "#arr[slicing of rows,slicing of columns]\n",
    "#arr[st(1):end,st(0):end]\n",
    "arr4[1: ,1:3] #[rows which we dont want,columns which we dont want]"
   ]
  },
  {
   "cell_type": "code",
   "execution_count": 20,
   "id": "9524cdd9",
   "metadata": {},
   "outputs": [
    {
     "data": {
      "text/plain": [
       "array([[2, 2, 2, 2],\n",
       "       [2, 2, 2, 2],\n",
       "       [2, 2, 2, 2]])"
      ]
     },
     "execution_count": 20,
     "metadata": {},
     "output_type": "execute_result"
    }
   ],
   "source": [
    "const2 = np.full((3,4),2)\n",
    "const2"
   ]
  },
  {
   "cell_type": "markdown",
   "id": "4e553211",
   "metadata": {},
   "source": [
    "# array broadcasting"
   ]
  },
  {
   "cell_type": "code",
   "execution_count": 21,
   "id": "0339b2aa",
   "metadata": {},
   "outputs": [
    {
     "name": "stdout",
     "output_type": "stream",
     "text": [
      "[[2 2 2 2]\n",
      " [2 2 2 2]\n",
      " [2 2 2 2]]\n"
     ]
    }
   ],
   "source": [
    "print(const2)"
   ]
  },
  {
   "cell_type": "code",
   "execution_count": 22,
   "id": "847974a6",
   "metadata": {},
   "outputs": [
    {
     "name": "stdout",
     "output_type": "stream",
     "text": [
      "[[ 1  6  3  4]\n",
      " [ 5  6  7  8]\n",
      " [ 9 10 11 12]]\n"
     ]
    }
   ],
   "source": [
    "print(arr4)"
   ]
  },
  {
   "cell_type": "code",
   "execution_count": 23,
   "id": "404d95c1",
   "metadata": {},
   "outputs": [
    {
     "name": "stdout",
     "output_type": "stream",
     "text": [
      "[[ 3  8  5  6]\n",
      " [ 7  8  9 10]\n",
      " [11 12 13 14]]\n"
     ]
    }
   ],
   "source": [
    "print(const2+arr4)"
   ]
  },
  {
   "cell_type": "code",
   "execution_count": 24,
   "id": "22bfbb16",
   "metadata": {},
   "outputs": [
    {
     "name": "stdout",
     "output_type": "stream",
     "text": [
      "[[ 3  8  5  6]\n",
      " [ 7  8  9 10]\n",
      " [11 12 13 14]]\n"
     ]
    }
   ],
   "source": [
    "print(np.add(const2,arr4))"
   ]
  },
  {
   "cell_type": "code",
   "execution_count": 25,
   "id": "002a42f2",
   "metadata": {},
   "outputs": [
    {
     "name": "stdout",
     "output_type": "stream",
     "text": [
      "[[  1  -4  -1  -2]\n",
      " [ -3  -4  -5  -6]\n",
      " [ -7  -8  -9 -10]]\n"
     ]
    }
   ],
   "source": [
    "print(np.subtract(const2,arr4))"
   ]
  },
  {
   "cell_type": "code",
   "execution_count": 26,
   "id": "f7d1537a",
   "metadata": {},
   "outputs": [
    {
     "name": "stdout",
     "output_type": "stream",
     "text": [
      "[[  1  -4  -1  -2]\n",
      " [ -3  -4  -5  -6]\n",
      " [ -7  -8  -9 -10]]\n"
     ]
    }
   ],
   "source": [
    "print(const2-arr4)"
   ]
  },
  {
   "cell_type": "code",
   "execution_count": 27,
   "id": "18b7c578",
   "metadata": {},
   "outputs": [
    {
     "name": "stdout",
     "output_type": "stream",
     "text": [
      "[[ 2 12  6  8]\n",
      " [10 12 14 16]\n",
      " [18 20 22 24]]\n"
     ]
    }
   ],
   "source": [
    "print(const2*arr4)"
   ]
  },
  {
   "cell_type": "code",
   "execution_count": 28,
   "id": "c1ba8598",
   "metadata": {},
   "outputs": [
    {
     "name": "stdout",
     "output_type": "stream",
     "text": [
      "[[ 2 12  6  8]\n",
      " [10 12 14 16]\n",
      " [18 20 22 24]]\n"
     ]
    }
   ],
   "source": [
    "print(np.multiply(const2,arr4))"
   ]
  },
  {
   "cell_type": "code",
   "execution_count": 29,
   "id": "a714ee74",
   "metadata": {},
   "outputs": [
    {
     "data": {
      "text/plain": [
       "array([[1.41421356, 1.41421356, 1.41421356, 1.41421356],\n",
       "       [1.41421356, 1.41421356, 1.41421356, 1.41421356],\n",
       "       [1.41421356, 1.41421356, 1.41421356, 1.41421356]])"
      ]
     },
     "execution_count": 29,
     "metadata": {},
     "output_type": "execute_result"
    }
   ],
   "source": [
    "#square root of each element\n",
    "np.sqrt(const2)"
   ]
  },
  {
   "cell_type": "code",
   "execution_count": 30,
   "id": "cf0a5a95",
   "metadata": {},
   "outputs": [
    {
     "data": {
      "text/plain": [
       "24"
      ]
     },
     "execution_count": 30,
     "metadata": {},
     "output_type": "execute_result"
    }
   ],
   "source": [
    "np.sum(const2) #sum of all elements"
   ]
  },
  {
   "cell_type": "code",
   "execution_count": 31,
   "id": "5b3d16fb",
   "metadata": {},
   "outputs": [
    {
     "data": {
      "text/plain": [
       "array([6, 6, 6, 6])"
      ]
     },
     "execution_count": 31,
     "metadata": {},
     "output_type": "execute_result"
    }
   ],
   "source": [
    "np.sum(const2, axis=0) #sum of all column elements"
   ]
  },
  {
   "cell_type": "code",
   "execution_count": 32,
   "id": "4bdf9963",
   "metadata": {},
   "outputs": [
    {
     "data": {
      "text/plain": [
       "array([8, 8, 8])"
      ]
     },
     "execution_count": 32,
     "metadata": {},
     "output_type": "execute_result"
    }
   ],
   "source": [
    "np.sum(const2, axis=1)"
   ]
  },
  {
   "cell_type": "markdown",
   "id": "8db610de",
   "metadata": {},
   "source": [
    "# calculate BMI OF players "
   ]
  },
  {
   "cell_type": "code",
   "execution_count": 33,
   "id": "15f6cc63",
   "metadata": {},
   "outputs": [
    {
     "data": {
      "text/plain": [
       "array([1.4945, 1.519 , 1.5925, 1.715 , 1.764 , 1.8375, 1.813 , 1.5435,\n",
       "       1.617 , 1.666 , 1.6905])"
      ]
     },
     "execution_count": 33,
     "metadata": {},
     "output_type": "execute_result"
    }
   ],
   "source": [
    "#height of players in inches\n",
    "height_in = [61,62,65,70,72,75,74,63,66,68,69]\n",
    "ht_np = np.array(height_in)\n",
    "#convert into meters\n",
    "ht_np = ht_np*0.0245\n",
    "ht_np"
   ]
  },
  {
   "cell_type": "code",
   "execution_count": 34,
   "id": "9f916d07",
   "metadata": {},
   "outputs": [
    {
     "data": {
      "text/plain": [
       "array([45.  , 54.  , 51.75, 49.5 , 65.25, 58.5 , 59.4 , 49.5 , 54.  ,\n",
       "       57.15, 63.  ])"
      ]
     },
     "execution_count": 34,
     "metadata": {},
     "output_type": "execute_result"
    }
   ],
   "source": [
    "#weight of the players in pounds\n",
    "weight_pd = [100,120,115,110,145,130,132,110,120,127,140]\n",
    "wt_np = np.array(weight_pd)\n",
    "#convert into kg\n",
    "wt_np = wt_np*0.45\n",
    "wt_np"
   ]
  },
  {
   "cell_type": "code",
   "execution_count": 35,
   "id": "e6d5c1de",
   "metadata": {},
   "outputs": [
    {
     "data": {
      "text/plain": [
       "array([20.1474773 , 23.40335994, 20.40569881, 16.82972231, 20.96927206,\n",
       "       17.32611412, 18.07135997, 20.77743495, 20.65255179, 20.59046908,\n",
       "       22.04500488])"
      ]
     },
     "execution_count": 35,
     "metadata": {},
     "output_type": "execute_result"
    }
   ],
   "source": [
    "#bmi=wt/[(ht)square]\n",
    "bmi = wt_np/ht_np**2\n",
    "bmi"
   ]
  },
  {
   "cell_type": "code",
   "execution_count": 36,
   "id": "4f28c31e",
   "metadata": {},
   "outputs": [
    {
     "data": {
      "text/plain": [
       "array([16.82972231, 17.32611412, 18.07135997])"
      ]
     },
     "execution_count": 36,
     "metadata": {},
     "output_type": "execute_result"
    }
   ],
   "source": [
    "bmi[bmi<20]"
   ]
  },
  {
   "cell_type": "code",
   "execution_count": 37,
   "id": "88a01b79",
   "metadata": {},
   "outputs": [
    {
     "data": {
      "text/plain": [
       "array([23.40335994, 22.04500488])"
      ]
     },
     "execution_count": 37,
     "metadata": {},
     "output_type": "execute_result"
    }
   ],
   "source": [
    "bmi[bmi>21]"
   ]
  },
  {
   "cell_type": "code",
   "execution_count": 38,
   "id": "a965f951",
   "metadata": {},
   "outputs": [
    {
     "data": {
      "text/plain": [
       "array([[45.    , 54.    , 51.75  , 49.5   , 65.25  , 58.5   , 59.4   ,\n",
       "        49.5   , 54.    , 57.15  , 63.    ],\n",
       "       [ 1.4945,  1.519 ,  1.5925,  1.715 ,  1.764 ,  1.8375,  1.813 ,\n",
       "         1.5435,  1.617 ,  1.666 ,  1.6905]])"
      ]
     },
     "execution_count": 38,
     "metadata": {},
     "output_type": "execute_result"
    }
   ],
   "source": [
    "players = np.array([wt_np,ht_np])\n",
    "players"
   ]
  },
  {
   "cell_type": "code",
   "execution_count": 39,
   "id": "4791b4cb",
   "metadata": {},
   "outputs": [
    {
     "data": {
      "text/plain": [
       "(2, 11)"
      ]
     },
     "execution_count": 39,
     "metadata": {},
     "output_type": "execute_result"
    }
   ],
   "source": [
    "players.shape"
   ]
  },
  {
   "cell_type": "markdown",
   "id": "19dea437",
   "metadata": {},
   "source": [
    " pt = players.T\n",
    "pt"
   ]
  },
  {
   "cell_type": "code",
   "execution_count": 41,
   "id": "4afc0ca2",
   "metadata": {},
   "outputs": [
    {
     "data": {
      "text/plain": [
       "(11, 2)"
      ]
     },
     "execution_count": 41,
     "metadata": {},
     "output_type": "execute_result"
    }
   ],
   "source": [
    "pt.shape"
   ]
  },
  {
   "cell_type": "markdown",
   "id": "a3dd5554",
   "metadata": {},
   "source": [
    "# statastical operation"
   ]
  },
  {
   "cell_type": "code",
   "execution_count": 42,
   "id": "f375d278",
   "metadata": {},
   "outputs": [],
   "source": [
    "#min,max,mean,median,std,var,coorcoef,perc\n"
   ]
  },
  {
   "cell_type": "code",
   "execution_count": 46,
   "id": "efd2316e",
   "metadata": {},
   "outputs": [
    {
     "name": "stdout",
     "output_type": "stream",
     "text": [
      "1.8375000000000001\n",
      "1.4945000000000002\n",
      "[[1.         0.69705141]\n",
      " [0.69705141 1.        ]]\n"
     ]
    }
   ],
   "source": [
    "print(np.amax(ht_np))\n",
    "print(np.amin(ht_np))\n",
    "print(np.corrcoef(ht_np,wt_np))#correlation coefficient"
   ]
  },
  {
   "cell_type": "markdown",
   "id": "f9f8a4b7",
   "metadata": {},
   "source": [
    "# boolean"
   ]
  },
  {
   "cell_type": "code",
   "execution_count": 50,
   "id": "e5ca57db",
   "metadata": {},
   "outputs": [
    {
     "data": {
      "text/plain": [
       "[False, True, True, False, False]"
      ]
     },
     "execution_count": 50,
     "metadata": {},
     "output_type": "execute_result"
    }
   ],
   "source": [
    "bools = [False,True,True,False,False]\n",
    "bools\n",
    "b = np.array(bools)"
   ]
  },
  {
   "cell_type": "code",
   "execution_count": 51,
   "id": "45ae6b2c",
   "metadata": {},
   "outputs": [
    {
     "data": {
      "text/plain": [
       "2"
      ]
     },
     "execution_count": 51,
     "metadata": {},
     "output_type": "execute_result"
    }
   ],
   "source": [
    "b.sum()"
   ]
  },
  {
   "cell_type": "code",
   "execution_count": 52,
   "id": "0a974aba",
   "metadata": {},
   "outputs": [
    {
     "data": {
      "text/plain": [
       "True"
      ]
     },
     "execution_count": 52,
     "metadata": {},
     "output_type": "execute_result"
    }
   ],
   "source": [
    "b.any()"
   ]
  },
  {
   "cell_type": "code",
   "execution_count": 54,
   "id": "92bcfcdf",
   "metadata": {},
   "outputs": [
    {
     "data": {
      "text/plain": [
       "False"
      ]
     },
     "execution_count": 54,
     "metadata": {},
     "output_type": "execute_result"
    }
   ],
   "source": [
    "b.all()"
   ]
  },
  {
   "cell_type": "code",
   "execution_count": 56,
   "id": "8b55b7c3",
   "metadata": {},
   "outputs": [
    {
     "data": {
      "text/plain": [
       "array(['b', 'b', 'b', 'c', 'c'], dtype='<U1')"
      ]
     },
     "execution_count": 56,
     "metadata": {},
     "output_type": "execute_result"
    }
   ],
   "source": [
    "n = np.array(['b','b','b','c','c'])\n",
    "n"
   ]
  },
  {
   "cell_type": "code",
   "execution_count": 57,
   "id": "9e0ee62d",
   "metadata": {},
   "outputs": [
    {
     "data": {
      "text/plain": [
       "array(['b', 'c'], dtype='<U1')"
      ]
     },
     "execution_count": 57,
     "metadata": {},
     "output_type": "execute_result"
    }
   ],
   "source": [
    "np.unique(n)"
   ]
  },
  {
   "cell_type": "code",
   "execution_count": null,
   "id": "c39e0048",
   "metadata": {},
   "outputs": [],
   "source": []
  }
 ],
 "metadata": {
  "kernelspec": {
   "display_name": "Python 3 (ipykernel)",
   "language": "python",
   "name": "python3"
  },
  "language_info": {
   "codemirror_mode": {
    "name": "ipython",
    "version": 3
   },
   "file_extension": ".py",
   "mimetype": "text/x-python",
   "name": "python",
   "nbconvert_exporter": "python",
   "pygments_lexer": "ipython3",
   "version": "3.9.12"
  }
 },
 "nbformat": 4,
 "nbformat_minor": 5
}
